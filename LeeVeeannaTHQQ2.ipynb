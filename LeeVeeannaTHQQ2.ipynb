{
 "cells": [
  {
   "cell_type": "code",
   "execution_count": 2,
   "metadata": {
    "scrolled": true
   },
   "outputs": [
    {
     "name": "stdout",
     "output_type": "stream",
     "text": [
      "  Country  Output, Q  Labour, L  Capital, K\n",
      "0       B         80         60          50\n",
      "1       C        150        100         100\n",
      "2       D        135        100          80\n",
      "3       E        165        120         100\n",
      "4       F         95         70          60\n",
      "5       G        130         90          80\n",
      "6       H        110         80          70\n"
     ]
    }
   ],
   "source": [
    "import pandas as pd\n",
    "data = {'Country': ['B','C','D','E','F','G','H'],\n",
    "'Output, Q': [80, 150, 135, 165, 95, 130, 110],\n",
    "'Labour, L': [60, 100, 100, 120, 70, 90, 80],\n",
    "'Capital, K': [50, 100, 80, 100, 60, 80, 70],}\n",
    "National = pd.DataFrame(data , columns = ['Country','Output, Q','Labour, L','Capital, K'])\n",
    "print(National)"
   ]
  },
  {
   "cell_type": "code",
   "execution_count": 25,
   "metadata": {},
   "outputs": [
    {
     "name": "stdout",
     "output_type": "stream",
     "text": [
      "Mean of Output, Q is 123.57142857142857\n",
      "Mean of Labour, L is 88.57142857142857\n",
      "Mean of Capital, K is 77.14285714285714\n",
      "Variance of Output, Q is 914.2857142857143\n",
      "Variance of Labour, L is 414.2857142857143\n",
      "Variance of Capital, K is 357.14285714285717\n",
      "Standard Deviation of Output, Q is 30.237157840738178\n",
      "Standard Deviation of Labour, L is 20.354009783964297\n",
      "Standard Deviation of Capital, K is 18.89822365046136\n",
      "Median of Output, Q is 130.0\n",
      "Median of Labour, L is 90.0\n",
      "Median of Capital, K is 80.0\n",
      "123.57142857142857\n"
     ]
    }
   ],
   "source": [
    "print('Mean of Output, Q is', National['Output, Q'].mean())\n",
    "print('Mean of Labour, L is', National['Labour, L'].mean())\n",
    "print('Mean of Capital, K is', National['Capital, K'].mean())\n",
    "\n",
    "print('Variance of Output, Q is', National['Output, Q'].var())\n",
    "print('Variance of Labour, L is', National['Labour, L'].var())\n",
    "print('Variance of Capital, K is', National['Capital, K'].var())\n",
    "\n",
    "print('Standard Deviation of Output, Q is', National['Output, Q'].std())\n",
    "print('Standard Deviation of Labour, L is', National['Labour, L'].std())\n",
    "print('Standard Deviation of Capital, K is', National['Capital, K'].std())\n",
    "\n",
    "print('Median of Output, Q is', National['Output, Q'].median())\n",
    "print('Median of Labour, L is', National['Labour, L'].median())\n",
    "print('Median of Capital, K is', National['Capital, K'].median())"
   ]
  },
  {
   "cell_type": "code",
   "execution_count": 3,
   "metadata": {
    "scrolled": true
   },
   "outputs": [
    {
     "data": {
      "text/plain": [
       "Text(0.5, 0, 'Output, Q')"
      ]
     },
     "execution_count": 3,
     "metadata": {},
     "output_type": "execute_result"
    },
    {
     "data": {
      "image/png": "[encoded data removed]",
      "text/plain": [
       "<Figure size 432x288 with 1 Axes>"
      ]
     },
     "metadata": {
      "needs_background": "light"
     },
     "output_type": "display_data"
    }
   ],
   "source": [
    "import matplotlib.pyplot as plt\n",
    "National['Output, Q'].hist(histtype = 'stepfilled', bins = 'auto')\n",
    "plt.ylabel('Frequency')\n",
    "plt.xlabel('Output, Q')"
   ]
  },
  {
   "cell_type": "code",
   "execution_count": 35,
   "metadata": {
    "scrolled": true
   },
   "outputs": [
    {
     "data": {
      "text/plain": [
       "Text(0.5, 0, 'Labour, L')"
      ]
     },
     "execution_count": 35,
     "metadata": {},
     "output_type": "execute_result"
    },
    {
     "data": {
      "image/png": "[encoded data removed]",
      "text/plain": [
       "<Figure size 432x288 with 1 Axes>"
      ]
     },
     "metadata": {
      "needs_background": "light"
     },
     "output_type": "display_data"
    }
   ],
   "source": [
    "National['Labour, L'].hist(histtype = 'stepfilled', bins = 'auto')\n",
    "plt.ylabel('Frequency')\n",
    "plt.xlabel('Labour, L')"
   ]
  },
  {
   "cell_type": "code",
   "execution_count": 48,
   "metadata": {},
   "outputs": [
    {
     "name": "stdout",
     "output_type": "stream",
     "text": [
      "0    4.382027\n",
      "1    5.010635\n",
      "2    4.905275\n",
      "3    5.105945\n",
      "4    4.553877\n",
      "5    4.867534\n",
      "6    4.700480\n",
      "Name: Output, Q, dtype: float64\n",
      "0    4.094345\n",
      "1    4.605170\n",
      "2    4.605170\n",
      "3    4.787492\n",
      "4    4.248495\n",
      "5    4.499810\n",
      "6    4.382027\n",
      "Name: Labour, L, dtype: float64\n",
      "0    3.912023\n",
      "1    4.605170\n",
      "2    4.382027\n",
      "3    4.605170\n",
      "4    4.094345\n",
      "5    4.382027\n",
      "6    4.248495\n",
      "Name: Capital, K, dtype: float64\n"
     ]
    }
   ],
   "source": [
    "import numpy as np\n",
    "LogQ = National['Output, Q'].apply(np.log)\n",
    "LogL = National['Labour, L'].apply(np.log)\n",
    "LogK = National['Capital, K'].apply(np.log)\n",
    "print(LogQ)\n",
    "print(LogL)\n",
    "print(LogK)"
   ]
  },
  {
   "cell_type": "code",
   "execution_count": 11,
   "metadata": {
    "scrolled": true
   },
   "outputs": [
    {
     "name": "stderr",
     "output_type": "stream",
     "text": [
      "C:\\Users\\Vee\\Anaconda3\\lib\\site-packages\\numpy\\core\\fromnumeric.py:2389: FutureWarning: Method .ptp is deprecated and will be removed in a future version. Use numpy.ptp instead.\n",
      "  return ptp(axis=axis, out=out, **kwargs)\n",
      "C:\\Users\\Vee\\Anaconda3\\lib\\site-packages\\statsmodels\\stats\\stattools.py:72: ValueWarning: omni_normtest is not valid with less than 8 observations; 7 samples were given.\n",
      "  \"samples were given.\" % int(n), ValueWarning)\n"
     ]
    },
    {
     "data": {
      "text/html": [
       "<table class=\"simpletable\">\n",
       "<caption>OLS Regression Results</caption>\n",
       "<tr>\n",
       "  <th>Dep. Variable:</th>        <td>Output, Q</td>    <th>  R-squared:         </th> <td>   0.998</td>\n",
       "</tr>\n",
       "<tr>\n",
       "  <th>Model:</th>                   <td>OLS</td>       <th>  Adj. R-squared:    </th> <td>   0.997</td>\n",
       "</tr>\n",
       "<tr>\n",
       "  <th>Method:</th>             <td>Least Squares</td>  <th>  F-statistic:       </th> <td>   859.6</td>\n",
       "</tr>\n",
       "<tr>\n",
       "  <th>Date:</th>             <td>Wed, 15 May 2019</td> <th>  Prob (F-statistic):</th> <td>5.39e-06</td>\n",
       "</tr>\n",
       "<tr>\n",
       "  <th>Time:</th>                 <td>19:05:35</td>     <th>  Log-Likelihood:    </th> <td> -12.027</td>\n",
       "</tr>\n",
       "<tr>\n",
       "  <th>No. Observations:</th>      <td>     7</td>      <th>  AIC:               </th> <td>   30.05</td>\n",
       "</tr>\n",
       "<tr>\n",
       "  <th>Df Residuals:</th>          <td>     4</td>      <th>  BIC:               </th> <td>   29.89</td>\n",
       "</tr>\n",
       "<tr>\n",
       "  <th>Df Model:</th>              <td>     2</td>      <th>                     </th>     <td> </td>   \n",
       "</tr>\n",
       "<tr>\n",
       "  <th>Covariance Type:</th>      <td>nonrobust</td>    <th>                     </th>     <td> </td>   \n",
       "</tr>\n",
       "</table>\n",
       "<table class=\"simpletable\">\n",
       "<tr>\n",
       "       <td></td>         <th>coef</th>     <th>std err</th>      <th>t</th>      <th>P>|t|</th>  <th>[0.025</th>    <th>0.975]</th>  \n",
       "</tr>\n",
       "<tr>\n",
       "  <th>const</th>      <td>   -5.7944</td> <td>    3.241</td> <td>   -1.788</td> <td> 0.148</td> <td>  -14.792</td> <td>    3.203</td>\n",
       "</tr>\n",
       "<tr>\n",
       "  <th>Labour, L</th>  <td>    0.7687</td> <td>    0.106</td> <td>    7.277</td> <td> 0.002</td> <td>    0.475</td> <td>    1.062</td>\n",
       "</tr>\n",
       "<tr>\n",
       "  <th>Capital, K</th> <td>    0.7944</td> <td>    0.114</td> <td>    6.983</td> <td> 0.002</td> <td>    0.479</td> <td>    1.110</td>\n",
       "</tr>\n",
       "</table>\n",
       "<table class=\"simpletable\">\n",
       "<tr>\n",
       "  <th>Omnibus:</th>       <td>   nan</td> <th>  Durbin-Watson:     </th> <td>   2.804</td>\n",
       "</tr>\n",
       "<tr>\n",
       "  <th>Prob(Omnibus):</th> <td>   nan</td> <th>  Jarque-Bera (JB):  </th> <td>   2.806</td>\n",
       "</tr>\n",
       "<tr>\n",
       "  <th>Skew:</th>          <td> 1.475</td> <th>  Prob(JB):          </th> <td>   0.246</td>\n",
       "</tr>\n",
       "<tr>\n",
       "  <th>Kurtosis:</th>      <td> 3.955</td> <th>  Cond. No.          </th> <td>    577.</td>\n",
       "</tr>\n",
       "</table><br/><br/>Warnings:<br/>[1] Standard Errors assume that the covariance matrix of the errors is correctly specified."
      ],
      "text/plain": [
       "<class 'statsmodels.iolib.summary.Summary'>\n",
       "\"\"\"\n",
       "                            OLS Regression Results                            \n",
       "==============================================================================\n",
       "Dep. Variable:              Output, Q   R-squared:                       0.998\n",
       "Model:                            OLS   Adj. R-squared:                  0.997\n",
       "Method:                 Least Squares   F-statistic:                     859.6\n",
       "Date:                Wed, 15 May 2019   Prob (F-statistic):           5.39e-06\n",
       "Time:                        19:05:35   Log-Likelihood:                -12.027\n",
       "No. Observations:                   7   AIC:                             30.05\n",
       "Df Residuals:                       4   BIC:                             29.89\n",
       "Df Model:                           2                                         \n",
       "Covariance Type:            nonrobust                                         \n",
       "==============================================================================\n",
       "                 coef    std err          t      P>|t|      [0.025      0.975]\n",
       "------------------------------------------------------------------------------\n",
       "const         -5.7944      3.241     -1.788      0.148     -14.792       3.203\n",
       "Labour, L      0.7687      0.106      7.277      0.002       0.475       1.062\n",
       "Capital, K     0.7944      0.114      6.983      0.002       0.479       1.110\n",
       "==============================================================================\n",
       "Omnibus:                          nan   Durbin-Watson:                   2.804\n",
       "Prob(Omnibus):                    nan   Jarque-Bera (JB):                2.806\n",
       "Skew:                           1.475   Prob(JB):                        0.246\n",
       "Kurtosis:                       3.955   Cond. No.                         577.\n",
       "==============================================================================\n",
       "\n",
       "Warnings:\n",
       "[1] Standard Errors assume that the covariance matrix of the errors is correctly specified.\n",
       "\"\"\""
      ]
     },
     "execution_count": 11,
     "metadata": {},
     "output_type": "execute_result"
    }
   ],
   "source": [
    "import statsmodels.api as sm\n",
    "y_ml = National[\"Output, Q\"]\n",
    "x_ml = National[[\"Labour, L\", \"Capital, K\"]]\n",
    "x_ml = sm.add_constant(x_pg)\n",
    "model = sm.OLS(y_ml, x_ml).fit()\n",
    "predictions = model.predict(x_pg)\n",
    "model.summary()"
   ]
  },
  {
   "cell_type": "code",
   "execution_count": 19,
   "metadata": {
    "scrolled": true
   },
   "outputs": [
    {
     "data": {
      "image/png": "[encoded data removed]",
      "text/plain": [
       "<Figure size 432x180 with 1 Axes>"
      ]
     },
     "metadata": {},
     "output_type": "display_data"
    }
   ],
   "source": [
    "from matplotlib import pyplot as plt\n",
    "pred_val = model.fittedvalues.copy()\n",
    "true_val = National['Output, Q'].values.copy()\n",
    "residual = true_val - pred_val\n",
    "\n",
    "fig, ax = plt.subplots(figsize=(6,2.5))\n",
    "_ = ax.scatter(residual, pred_val)"
   ]
  }
 ],
 "metadata": {
  "kernelspec": {
   "display_name": "Python 3",
   "language": "python",
   "name": "python3"
  },
  "language_info": {
   "codemirror_mode": {
    "name": "ipython",
    "version": 3
   },
   "file_extension": ".py",
   "mimetype": "text/x-python",
   "name": "python",
   "nbconvert_exporter": "python",
   "pygments_lexer": "ipython3",
   "version": "3.7.3"
  }
 },
 "nbformat": 4,
 "nbformat_minor": 2
}
